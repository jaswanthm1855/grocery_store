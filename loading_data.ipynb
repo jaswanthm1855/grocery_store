{
 "cells": [
  {
   "cell_type": "code",
   "execution_count": 1,
   "id": "f0167690",
   "metadata": {},
   "outputs": [],
   "source": [
    "import os, sys\n",
    "PWD = os.getenv('PWD')\n",
    "\n",
    "PROJ_MISSING_MSG = \"\"\"\n",
    "Set an enviroment variable:\\n\n",
    "`DJANGO_PROJECT=GroceryStore`\\n\n",
    "or call:\\n\n",
    "`init_django(your_project_name)`\n",
    "\"\"\"\n",
    "\n",
    "# def init_django(project_name=None):\n",
    "#     os.chdir(PWD)\n",
    "#     project_name = project_name or os.environ.get('grocery_store') or None\n",
    "#     if project_name == None:\n",
    "#         raise Exception(PROJ_MISSING_MSG)\n",
    "#     sys.path.insert(0, os.getenv('PWD'))\n",
    "#     os.environ.setdefault('DJANGO_SETTINGS_MODULE', f'{project_name}.settings')\n",
    "#     os.environ[\"DJANGO_ALLOW_ASYNC_UNSAFE\"] = \"true\"\n",
    "#     import django\n",
    "#     django.setup()\n",
    "\n",
    "# init_django()\n",
    "\n",
    "\n",
    "\n",
    "import django\n",
    "import os\n",
    "os.environ.setdefault(\"DJANGO_SETTINGS_MODULE\", \"grocery_store.settings\")\n",
    "os.environ[\"DJANGO_ALLOW_ASYNC_UNSAFE\"] = \"true\"\n",
    "django.setup()"
   ]
  },
  {
   "cell_type": "code",
   "execution_count": 2,
   "id": "8eee9d14",
   "metadata": {},
   "outputs": [],
   "source": [
    "categories = [\n",
    "    {\"name\": \"Food\", \"description\": \"Eat healthy, Stay healthy\"},\n",
    "    {\"name\": \"Grocery\", \"description\": \"Pleasant things makes our mood pleasant\"}\n",
    "]\n",
    "\n",
    "items = [\n",
    "    {\"name\": \"Chips\", \"description\": \"made from aloo\", \"category_name\": \"Food\"},\n",
    "    {\"name\": \"Peanuts\", \"description\": \"from far to make you happy\", \"category_name\": \"Food\"},\n",
    "    {\"name\": \"Himalaya Face Wash\", \"description\": \"look energetic\", \"category_name\": \"Grocery\"},\n",
    "    {\"name\": \"Fair and Lovely Cream\", \"description\": \"shine bright\", \"category_name\": \"Grocery\"}\n",
    "]\n",
    "\n",
    "item_variants = [\n",
    "    {\"item_name\": \"Chips\", \"variant\": \"100g\", \"price\": 10, \"available_quantity\": 10},\n",
    "    {\"item_name\": \"Chips\", \"variant\": \"500g\", \"price\": 50, \"available_quantity\": 5},\n",
    "    {\"item_name\": \"Peanuts\", \"variant\": \"150g\", \"price\": 20, \"available_quantity\": 5},\n",
    "    {\"item_name\": \"Peanuts\", \"variant\": \"250g\", \"price\": 30, \"available_quantity\": 15},\n",
    "    {\"item_name\": \"Himalaya Face Wash\", \"variant\": \"70g\", \"price\": 15, \"available_quantity\": 7},\n",
    "    {\"item_name\": \"Himalaya Face Wash\", \"variant\": \"200g\", \"price\": 40, \"available_quantity\": 9},\n",
    "    {\"item_name\": \"Fair and Lovely Cream\", \"variant\": \"100g\", \"price\": 20, \"available_quantity\": 10},\n",
    "    {\"item_name\": \"Fair and Lovely Cream\", \"variant\": \"300g\", \"price\": 50, \"available_quantity\": 13}\n",
    "]\n",
    "\n",
    "from store import models\n",
    "\n",
    "for category in categories:\n",
    "    models.Category.objects.create(\n",
    "        name=category[\"name\"], description=category[\"description\"])\n",
    "\n",
    "for item in items:\n",
    "    category_id = models.Category.objects.get(name=item[\"category_name\"]).id\n",
    "    models.Item.objects.create(\n",
    "        name=item[\"name\"], description=item[\"description\"], category_id=category_id\n",
    "    )\n",
    "\n",
    "for item_variant in item_variants:\n",
    "    item_id = models.Item.objects.get(name=item_variant[\"item_name\"]).id\n",
    "    models.ItemVariants.objects.create(\n",
    "        item_id=item_id, variant=item_variant[\"variant\"],\n",
    "        price=item_variant[\"price\"], available_quantity=item_variant[\"available_quantity\"]\n",
    "    )\n"
   ]
  },
  {
   "cell_type": "code",
   "execution_count": null,
   "id": "6a7d75de",
   "metadata": {},
   "outputs": [],
   "source": []
  },
  {
   "cell_type": "code",
   "execution_count": null,
   "id": "82d923be",
   "metadata": {},
   "outputs": [],
   "source": []
  },
  {
   "cell_type": "markdown",
   "id": "c2d136ba",
   "metadata": {},
   "source": [
    "### API Requests"
   ]
  },
  {
   "cell_type": "code",
   "execution_count": null,
   "id": "c0f7e964",
   "metadata": {},
   "outputs": [],
   "source": [
    "Register API: https://web.postman.co/workspace/My-Workspace~4187d3b7-8c3c-4d91-8b1d-c1ddf6c8752a/request/12359360-4e19149c-8d6f-478e-b17c-4556d50242d7\n",
    "Login API: https://web.postman.co/workspace/My-Workspace~4187d3b7-8c3c-4d91-8b1d-c1ddf6c8752a/request/12359360-d5b3a697-da33-4333-af99-60e8a7ce9742\n",
    "Logout API: https://web.postman.co/workspace/My-Workspace~4187d3b7-8c3c-4d91-8b1d-c1ddf6c8752a/request/12359360-5f0ae7ae-a2d4-4a17-a047-608532d3c970\n",
    "GetItemDetails API: https://web.postman.co/workspace/My-Workspace~4187d3b7-8c3c-4d91-8b1d-c1ddf6c8752a/request/12359360-e3c1623e-c891-4e9f-a581-37b364571335\n",
    "FetchItems API: https://web.postman.co/workspace/My-Workspace~4187d3b7-8c3c-4d91-8b1d-c1ddf6c8752a/request/12359360-d18790d1-11cc-409b-8b3b-4b9461450b91\n",
    "Createorder API: https://web.postman.co/workspace/My-Workspace~4187d3b7-8c3c-4d91-8b1d-c1ddf6c8752a/request/12359360-8903d064-ea51-45a0-a43c-527646c8c116\n",
    "GetUserordersList API: https://web.postman.co/workspace/My-Workspace~4187d3b7-8c3c-4d91-8b1d-c1ddf6c8752a/request/12359360-ea14bd26-d4ab-4ecf-97bb-71676691f376\n",
    "GetCardItemsDetails API: https://web.postman.co/workspace/My-Workspace~4187d3b7-8c3c-4d91-8b1d-c1ddf6c8752a/request/12359360-a064df57-a6cf-43b1-aca4-1b16c7898c2d"
   ]
  },
  {
   "cell_type": "code",
   "execution_count": null,
   "id": "8d6c4379",
   "metadata": {},
   "outputs": [],
   "source": []
  },
  {
   "cell_type": "code",
   "execution_count": null,
   "id": "42e9b267",
   "metadata": {},
   "outputs": [],
   "source": []
  },
  {
   "cell_type": "code",
   "execution_count": null,
   "id": "4eee9be8",
   "metadata": {},
   "outputs": [],
   "source": []
  },
  {
   "cell_type": "code",
   "execution_count": null,
   "id": "60e5bc2c",
   "metadata": {},
   "outputs": [],
   "source": []
  },
  {
   "cell_type": "code",
   "execution_count": null,
   "id": "0e160014",
   "metadata": {},
   "outputs": [],
   "source": []
  }
 ],
 "metadata": {
  "kernelspec": {
   "display_name": "Python 3 (ipykernel)",
   "language": "python",
   "name": "python3"
  },
  "language_info": {
   "codemirror_mode": {
    "name": "ipython",
    "version": 3
   },
   "file_extension": ".py",
   "mimetype": "text/x-python",
   "name": "python",
   "nbconvert_exporter": "python",
   "pygments_lexer": "ipython3",
   "version": "3.8.8"
  }
 },
 "nbformat": 4,
 "nbformat_minor": 5
}
